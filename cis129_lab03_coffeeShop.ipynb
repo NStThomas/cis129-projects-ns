{
 "cells": [
  {
   "cell_type": "code",
   "execution_count": 1,
   "id": "ed7a58b4-1f42-46fa-a1b0-81fee1ef2894",
   "metadata": {},
   "outputs": [],
   "source": [
    "#C is a var of coffee cost; \n",
    "#M is a var of muffin cost;\n",
    "#X=number of coffee*cost;\n",
    "#Y=number of muffin*cost;\n",
    "#T=total tax,6%\n",
    "#F=final price(tax+subtotal)"
   ]
  },
  {
   "cell_type": "code",
   "execution_count": 2,
   "id": "6b3568ce-8a73-4e29-8b66-4f32395b70c9",
   "metadata": {},
   "outputs": [],
   "source": [
    "C=5.00"
   ]
  },
  {
   "cell_type": "code",
   "execution_count": 3,
   "id": "4ae02f9e-c988-4105-bcba-af5281643aa6",
   "metadata": {},
   "outputs": [],
   "source": [
    "M=4.00"
   ]
  },
  {
   "cell_type": "code",
   "execution_count": 4,
   "id": "062d13b7-49b3-47e0-9d4d-ea81d88c6070",
   "metadata": {},
   "outputs": [
    {
     "name": "stdin",
     "output_type": "stream",
     "text": [
      "How many coffees would you like? 1\n"
     ]
    }
   ],
   "source": [
    "coffees = int(input(\"How many coffees would you like?\"))"
   ]
  },
  {
   "cell_type": "code",
   "execution_count": 5,
   "id": "752a9517-9a37-49f0-8468-9174ca5ff463",
   "metadata": {},
   "outputs": [
    {
     "name": "stdin",
     "output_type": "stream",
     "text": [
      "How many muffins would you like? 2\n"
     ]
    }
   ],
   "source": [
    "muffins=int(input(\"How many muffins would you like?\"))"
   ]
  },
  {
   "cell_type": "code",
   "execution_count": 6,
   "id": "5f5d0050-7044-4c21-8c1a-704459d330fd",
   "metadata": {},
   "outputs": [],
   "source": [
    "X=float(coffees*C)"
   ]
  },
  {
   "cell_type": "code",
   "execution_count": 7,
   "id": "de303886-d954-4c0d-bcd5-70b8f90db7cc",
   "metadata": {},
   "outputs": [],
   "source": [
    "Y=float(muffins*M)"
   ]
  },
  {
   "cell_type": "code",
   "execution_count": 8,
   "id": "74097f15-e591-4dc0-8bfa-964461653ad3",
   "metadata": {},
   "outputs": [
    {
     "name": "stdout",
     "output_type": "stream",
     "text": [
      "***************************************\n",
      "My Coffee and Muffin Shop\n",
      "Number of coffees bought?\n",
      "\n"
     ]
    }
   ],
   "source": [
    "print('***************************************\\nMy Coffee and Muffin Shop\\nNumber of coffees bought?\\n')"
   ]
  },
  {
   "cell_type": "code",
   "execution_count": 9,
   "id": "a3885e96-371b-4087-8c8a-ebb18411d251",
   "metadata": {},
   "outputs": [
    {
     "name": "stdout",
     "output_type": "stream",
     "text": [
      "1\n"
     ]
    }
   ],
   "source": [
    "print(coffees)"
   ]
  },
  {
   "cell_type": "code",
   "execution_count": 10,
   "id": "a1511052-2a56-4204-a1c1-18866e42223d",
   "metadata": {},
   "outputs": [
    {
     "name": "stdout",
     "output_type": "stream",
     "text": [
      "Number of Muffins bought?\n",
      "\n"
     ]
    }
   ],
   "source": [
    "print('Number of Muffins bought?\\n')"
   ]
  },
  {
   "cell_type": "code",
   "execution_count": 11,
   "id": "06638184-f629-495a-929a-ae69ba70e6c6",
   "metadata": {},
   "outputs": [
    {
     "name": "stdout",
     "output_type": "stream",
     "text": [
      "2\n"
     ]
    }
   ],
   "source": [
    "print(muffins)"
   ]
  },
  {
   "cell_type": "code",
   "execution_count": 12,
   "id": "a51ca4a8-4b46-4b0f-af55-ec9c5c14787e",
   "metadata": {},
   "outputs": [
    {
     "name": "stdout",
     "output_type": "stream",
     "text": [
      "***************************************\n",
      "\n",
      "***************************************\n"
     ]
    }
   ],
   "source": [
    "print('***************************************\\n\\n***************************************')"
   ]
  },
  {
   "cell_type": "code",
   "execution_count": 13,
   "id": "810960b5-4eef-4d6a-8253-ba64e6c18c0f",
   "metadata": {},
   "outputs": [
    {
     "name": "stdout",
     "output_type": "stream",
     "text": [
      "My Coffee and Muffin Shop Receipt\n"
     ]
    }
   ],
   "source": [
    "print('My Coffee and Muffin Shop Receipt')"
   ]
  },
  {
   "cell_type": "code",
   "execution_count": 14,
   "id": "d9207c75-51a8-413b-bb37-2121c16eda5e",
   "metadata": {},
   "outputs": [
    {
     "name": "stdout",
     "output_type": "stream",
     "text": [
      "1 Coffee at $ 5 each: $ 5.0\n"
     ]
    }
   ],
   "source": [
    "print(coffees,'Coffee at $',int(C),'each: $',float(X))"
   ]
  },
  {
   "cell_type": "code",
   "execution_count": 15,
   "id": "3550e8e9-52c1-411d-b2b2-66681aec1e38",
   "metadata": {},
   "outputs": [
    {
     "name": "stdout",
     "output_type": "stream",
     "text": [
      "2 Muffin at $ 4 each: $ 8.0\n"
     ]
    }
   ],
   "source": [
    "print(muffins,'Muffin at $',int(M),'each: $',float(Y))"
   ]
  },
  {
   "cell_type": "code",
   "execution_count": 16,
   "id": "3ef94bf5-042c-4826-a7d6-722e4b001916",
   "metadata": {},
   "outputs": [],
   "source": [
    "T=float(.06*(X+Y))"
   ]
  },
  {
   "cell_type": "code",
   "execution_count": 17,
   "id": "7a25e09d-6f70-429c-8f99-c0614252401f",
   "metadata": {},
   "outputs": [
    {
     "name": "stdout",
     "output_type": "stream",
     "text": [
      "6% tax:% 0.78\n"
     ]
    }
   ],
   "source": [
    "print('6% tax:%',float(T))"
   ]
  },
  {
   "cell_type": "code",
   "execution_count": 18,
   "id": "2b4aa35a-8e2a-4076-ac69-badb5be6bb6b",
   "metadata": {},
   "outputs": [],
   "source": [
    "F=float(T+(X+Y))"
   ]
  },
  {
   "cell_type": "code",
   "execution_count": 19,
   "id": "ce6ced29-7c62-4ddd-b4da-8105ab105201",
   "metadata": {},
   "outputs": [
    {
     "name": "stdout",
     "output_type": "stream",
     "text": [
      "---------\n",
      "Total:$ 13.78\n"
     ]
    }
   ],
   "source": [
    "print('---------\\nTotal:$',float(F))"
   ]
  },
  {
   "cell_type": "code",
   "execution_count": 20,
   "id": "e09dc26c-fa68-47b3-b39f-f4337c8638bc",
   "metadata": {},
   "outputs": [
    {
     "name": "stdout",
     "output_type": "stream",
     "text": [
      "***************************************\n"
     ]
    }
   ],
   "source": [
    "print('***************************************')"
   ]
  }
 ],
 "metadata": {
  "kernelspec": {
   "display_name": "Python 3 (ipykernel)",
   "language": "python",
   "name": "python3"
  },
  "language_info": {
   "codemirror_mode": {
    "name": "ipython",
    "version": 3
   },
   "file_extension": ".py",
   "mimetype": "text/x-python",
   "name": "python",
   "nbconvert_exporter": "python",
   "pygments_lexer": "ipython3",
   "version": "3.11.5"
  }
 },
 "nbformat": 4,
 "nbformat_minor": 5
}
